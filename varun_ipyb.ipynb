{
  "nbformat": 4,
  "nbformat_minor": 0,
  "metadata": {
    "colab": {
      "name": "varun.ipyb",
      "provenance": [],
      "collapsed_sections": [],
      "authorship_tag": "ABX9TyN+ZzXBD2xO8zlviqQ4sOk0",
      "include_colab_link": true
    },
    "kernelspec": {
      "name": "python3",
      "display_name": "Python 3"
    },
    "language_info": {
      "name": "python"
    }
  },
  "cells": [
    {
      "cell_type": "markdown",
      "metadata": {
        "id": "view-in-github",
        "colab_type": "text"
      },
      "source": [
        "<a href=\"https://colab.research.google.com/github/var2001/day-1-assaignment/blob/main/varun_ipyb.ipynb\" target=\"_parent\"><img src=\"https://colab.research.google.com/assets/colab-badge.svg\" alt=\"Open In Colab\"/></a>"
      ]
    },
    {
      "cell_type": "code",
      "metadata": {
        "colab": {
          "base_uri": "https://localhost:8080/"
        },
        "id": "C2QNa47RwU8n",
        "outputId": "8126b7a8-9534-40ab-93e4-7e28764b8b27"
      },
      "source": [
        "print(\"hello world this is varun\")\n",
        "\n"
      ],
      "execution_count": 4,
      "outputs": [
        {
          "output_type": "stream",
          "text": [
            "hello world this is varun\n"
          ],
          "name": "stdout"
        }
      ]
    },
    {
      "cell_type": "code",
      "metadata": {
        "colab": {
          "base_uri": "https://localhost:8080/"
        },
        "id": "xYm3DojPw2AJ",
        "outputId": "f883d51a-33bc-4d4b-d1a8-2dc1b31b9094"
      },
      "source": [
        "print('hello')\n",
        "print('varun is great')"
      ],
      "execution_count": 5,
      "outputs": [
        {
          "output_type": "stream",
          "text": [
            "hello\n",
            "varun is great\n"
          ],
          "name": "stdout"
        }
      ]
    },
    {
      "cell_type": "code",
      "metadata": {
        "colab": {
          "base_uri": "https://localhost:8080/"
        },
        "id": "J79qrTgxxJX1",
        "outputId": "2cea0651-72db-41c9-8123-6e9bfad667b4"
      },
      "source": [
        "print('hello')\n",
        "print('coders')"
      ],
      "execution_count": 6,
      "outputs": [
        {
          "output_type": "stream",
          "text": [
            "hello\n",
            "coders\n"
          ],
          "name": "stdout"
        }
      ]
    },
    {
      "cell_type": "code",
      "metadata": {
        "colab": {
          "base_uri": "https://localhost:8080/"
        },
        "id": "jxA-YjAzxWJP",
        "outputId": "f55f2c79-1133-44b5-a586-5f673404dd1c"
      },
      "source": [
        "a=20\n",
        "print(type(a))\n",
        "a='hello'\n",
        "print(type(a))\n",
        "a='$'\n",
        "print(type(a))"
      ],
      "execution_count": 14,
      "outputs": [
        {
          "output_type": "stream",
          "text": [
            "<class 'int'>\n",
            "<class 'str'>\n",
            "<class 'str'>\n"
          ],
          "name": "stdout"
        }
      ]
    },
    {
      "cell_type": "code",
      "metadata": {
        "colab": {
          "base_uri": "https://localhost:8080/"
        },
        "id": "JqPNEoDlxhgN",
        "outputId": "29d05a82-7b16-4865-cbb7-f122fc4f29e5"
      },
      "source": [
        "a='hello'\n",
        "print(type(a))"
      ],
      "execution_count": 12,
      "outputs": [
        {
          "output_type": "stream",
          "text": [
            "<class 'str'>\n"
          ],
          "name": "stdout"
        }
      ]
    },
    {
      "cell_type": "code",
      "metadata": {
        "colab": {
          "base_uri": "https://localhost:8080/"
        },
        "id": "DtJAB8_Cxu4P",
        "outputId": "aa465001-bf76-456f-d5af-6f757eb1cf0c"
      },
      "source": [
        "a='$'\n",
        "print(type(a))"
      ],
      "execution_count": 11,
      "outputs": [
        {
          "output_type": "stream",
          "text": [
            "<class 'str'>\n"
          ],
          "name": "stdout"
        }
      ]
    },
    {
      "cell_type": "code",
      "metadata": {
        "colab": {
          "base_uri": "https://localhost:8080/"
        },
        "id": "IFp5w3QfyizF",
        "outputId": "33b14aa5-e4c8-4a46-f499-a79fdde2af57"
      },
      "source": [
        "x=10.25\n",
        "print(type(x))"
      ],
      "execution_count": 15,
      "outputs": [
        {
          "output_type": "stream",
          "text": [
            "<class 'float'>\n"
          ],
          "name": "stdout"
        }
      ]
    },
    {
      "cell_type": "code",
      "metadata": {
        "colab": {
          "base_uri": "https://localhost:8080/"
        },
        "id": "X8YgfNJHzzQ4",
        "outputId": "cdf24909-dc5c-45d4-e043-3ffa34246a06"
      },
      "source": [
        "x=10\n",
        "y=20\n",
        "z=30\n",
        "print(x,y,z)"
      ],
      "execution_count": 23,
      "outputs": [
        {
          "output_type": "stream",
          "text": [
            "10 20 30\n"
          ],
          "name": "stdout"
        }
      ]
    },
    {
      "cell_type": "code",
      "metadata": {
        "colab": {
          "base_uri": "https://localhost:8080/"
        },
        "id": "_efHwrZjz6pO",
        "outputId": "8bbd59c8-0850-45a4-f712-8f0665132966"
      },
      "source": [
        "a=b=c=20\n",
        "print(a,b,c)\n"
      ],
      "execution_count": 24,
      "outputs": [
        {
          "output_type": "stream",
          "text": [
            "20 20 20\n"
          ],
          "name": "stdout"
        }
      ]
    },
    {
      "cell_type": "code",
      "metadata": {
        "colab": {
          "base_uri": "https://localhost:8080/"
        },
        "id": "hX2EsBbW0QUN",
        "outputId": "014b2182-41d0-4db6-812f-2577ffd6574f"
      },
      "source": [
        "#hyderabad comeenting section\n",
        "print(id(a))\n",
        "print(id(b))\n",
        "print(id(c))"
      ],
      "execution_count": 29,
      "outputs": [
        {
          "output_type": "stream",
          "text": [
            "94918115261536\n",
            "94918115261536\n",
            "94918115261536\n"
          ],
          "name": "stdout"
        }
      ]
    },
    {
      "cell_type": "code",
      "metadata": {
        "colab": {
          "base_uri": "https://localhost:8080/"
        },
        "id": "gsupgzIe09Eq",
        "outputId": "7a875fdc-cf9e-42dd-caa2-29a17832e2ad"
      },
      "source": [
        "\n",
        "print('hello' 'coders association')\n"
      ],
      "execution_count": 36,
      "outputs": [
        {
          "output_type": "stream",
          "text": [
            "hellocoders association\n"
          ],
          "name": "stdout"
        }
      ]
    },
    {
      "cell_type": "code",
      "metadata": {
        "colab": {
          "base_uri": "https://localhost:8080/"
        },
        "id": "Qqs594Dr1d1I",
        "outputId": "2f74f4a4-4bf6-4ce3-d8aa-0b7332174195"
      },
      "source": [
        "x=int(input(\"enter the 1st value:\"))\n",
        "y=int(input(\"enter the 2nd value:\"))\n",
        "print(type(x),type(y))\n",
        "print(x+y)\n",
        "\n"
      ],
      "execution_count": 57,
      "outputs": [
        {
          "output_type": "stream",
          "text": [
            "enter the 1st value:22\n",
            "enter the 2nd value:28\n",
            "<class 'int'> <class 'int'>\n",
            "50\n"
          ],
          "name": "stdout"
        }
      ]
    },
    {
      "cell_type": "code",
      "metadata": {
        "colab": {
          "base_uri": "https://localhost:8080/"
        },
        "id": "YZZlb6k11eM4",
        "outputId": "be5ea079-4a39-48a1-a9f7-647d977dfe55"
      },
      "source": [
        "x=input ('enter values:')\n",
        "print(type(x))\n",
        "val=x.split()\n",
        "print(val)\n"
      ],
      "execution_count": 61,
      "outputs": [
        {
          "output_type": "stream",
          "text": [
            "enter values;10,20,30,40,50\n",
            "<class 'str'>\n",
            "['10,20,30,40,50']\n"
          ],
          "name": "stdout"
        }
      ]
    },
    {
      "cell_type": "code",
      "metadata": {
        "colab": {
          "base_uri": "https://localhost:8080/"
        },
        "id": "phrBtJ1q1eaI",
        "outputId": "899e690b-175a-43c4-dc55-650b14ea37f3"
      },
      "source": [
        ""
      ],
      "execution_count": 64,
      "outputs": [
        {
          "output_type": "stream",
          "text": [
            "<class 'list'>\n",
            "<class 'tuple'>\n"
          ],
          "name": "stdout"
        }
      ]
    },
    {
      "cell_type": "code",
      "metadata": {
        "colab": {
          "base_uri": "https://localhost:8080/"
        },
        "id": "IPgmkYSA1egG",
        "outputId": "433c201b-ef5a-4c0a-e30e-0f79a189229e"
      },
      "source": [
        "li=[400,500,300,1,5,5]\n",
        "li.reverse()\n",
        "print(li)\n",
        "print(type(li))\n",
        "\n"
      ],
      "execution_count": 83,
      "outputs": [
        {
          "output_type": "stream",
          "text": [
            "[5, 5, 1, 300, 500, 400]\n",
            "<class 'list'>\n"
          ],
          "name": "stdout"
        }
      ]
    },
    {
      "cell_type": "code",
      "metadata": {
        "colab": {
          "base_uri": "https://localhost:8080/"
        },
        "id": "1gCgauiD1ejC",
        "outputId": "28f4ba92-1c95-4725-e350-365a2f18beeb"
      },
      "source": [
        "li=[1,4,3,8,9,2]\n",
        "li.sort()\n",
        "print (li)\n",
        "print (type(li))"
      ],
      "execution_count": 84,
      "outputs": [
        {
          "output_type": "stream",
          "text": [
            "[1, 2, 3, 4, 8, 9]\n",
            "<class 'list'>\n"
          ],
          "name": "stdout"
        }
      ]
    },
    {
      "cell_type": "markdown",
      "metadata": {
        "id": "8bZwdsPU1fVr"
      },
      "source": [
        ""
      ]
    },
    {
      "cell_type": "markdown",
      "metadata": {
        "id": "Ybl_DbF91fgC"
      },
      "source": [
        ""
      ]
    }
  ]
}